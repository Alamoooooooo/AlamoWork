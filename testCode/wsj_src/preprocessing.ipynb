{
 "cells": [
  {
   "cell_type": "code",
   "execution_count": 5,
   "metadata": {},
   "outputs": [],
   "source": [
    "import pandas as pd\n",
    "import numpy as np\n",
    "import polars as pl\n",
    "import sys\n",
    "sys.path.append('/root/autodl-tmp/JaneStreeReal2024/jane-street-real-time-market-data-forecasting/')\n",
    "\n",
    "\n",
    "import gc\n",
    "from matplotlib import pyplot as plt\n",
    "import matplotlib.cm as cm\n",
    "from sklearn.model_selection import StratifiedGroupKFold\n"
   ]
  },
  {
   "cell_type": "code",
   "execution_count": 6,
   "metadata": {},
   "outputs": [],
   "source": [
    "# data_ids = pl.scan_parquet(f\"/root/autodl-tmp/JaneStreeReal2024/jane-street-real-time-market-data-forecasting/train.parquet\").select(\"date_id\").unique().collect().to_numpy().squeeze(-1).tolist()"
   ]
  },
  {
   "cell_type": "code",
   "execution_count": 22,
   "metadata": {},
   "outputs": [],
   "source": [
    "class CONFIG:\n",
    "    target_col = \"responder_6\"\n",
    "    lag_cols_original = [\"date_id\", \"symbol_id\"] + [f\"responder_{idx}\" for idx in range(9)]\n",
    "    lag_cols_rename = { f\"responder_{idx}\" : f\"responder_{idx}_lag_1\" for idx in range(9)}\n",
    "    start_dt = 900\n",
    "    valid_date_length = 60\n",
    "    valid_ratio = 0.2\n"
   ]
  },
  {
   "cell_type": "code",
   "execution_count": 13,
   "metadata": {},
   "outputs": [
    {
     "name": "stdout",
     "output_type": "stream",
     "text": [
      "len_train: 547, len_ofl_mdl: 438, last_tr_dt: 424\n"
     ]
    }
   ],
   "source": [
    "# 读入train_data.parquet\n",
    "import polars as pl\n",
    "import numpy as np\n",
    "from tqdm import tqdm\n",
    "train = pl.read_parquet(\n",
    "    f\"train_data.parquet\"\n",
    ").fill_null(strategy=\"forward\").fill_null(0)\n",
    "\n",
    "\n",
    "len_train = train.select(pl.col(\"date\")).shape[0]\n",
    "valid_records = int(len_train * CONFIG.valid_ratio)\n",
    "len_ofl_mdl = len_train - valid_records\n",
    "last_tr_dt = 574 - CONFIG.valid_date_length\n",
    "\n",
    "print(f\"len_train: {len_train}, len_ofl_mdl: {len_ofl_mdl}, last_tr_dt: {last_tr_dt}\")\n",
    "\n",
    "training_data = train.filter(pl.col(\"date\") <= last_tr_dt)\n",
    "validation_data = train.filter(pl.col(\"date\") > last_tr_dt)"
   ]
  },
  {
   "cell_type": "code",
   "execution_count": 8,
   "metadata": {},
   "outputs": [
    {
     "ename": "FileNotFoundError",
     "evalue": "系统找不到指定的路径。 (os error 3): ...autodl-tmp/JaneStreeReal2024/jane-street-real-time-market-data-forecasting/train.parquet\n\nThis error occurred with the following context stack:\n\t[1] 'parquet scan'\n\t[2] 'select'\n\t[3] 'with_columns'\n\t[4] 'filter'\n",
     "output_type": "error",
     "traceback": [
      "\u001b[1;31m---------------------------------------------------------------------------\u001b[0m",
      "\u001b[1;31mFileNotFoundError\u001b[0m                         Traceback (most recent call last)",
      "Cell \u001b[1;32mIn[8], line 7\u001b[0m\n\u001b[0;32m      1\u001b[0m train \u001b[38;5;241m=\u001b[39m pl\u001b[38;5;241m.\u001b[39mscan_parquet(\u001b[38;5;124m\"\u001b[39m\u001b[38;5;124m/root/autodl-tmp/JaneStreeReal2024/jane-street-real-time-market-data-forecasting/train.parquet\u001b[39m\u001b[38;5;124m\"\u001b[39m)\u001b[38;5;241m.\u001b[39mselect(\n\u001b[0;32m      2\u001b[0m     pl\u001b[38;5;241m.\u001b[39mint_range(pl\u001b[38;5;241m.\u001b[39mlen(), dtype\u001b[38;5;241m=\u001b[39mpl\u001b[38;5;241m.\u001b[39mUInt32)\u001b[38;5;241m.\u001b[39malias(\u001b[38;5;124m\"\u001b[39m\u001b[38;5;124mid\u001b[39m\u001b[38;5;124m\"\u001b[39m),\n\u001b[0;32m      3\u001b[0m     pl\u001b[38;5;241m.\u001b[39mall(),\n\u001b[0;32m      4\u001b[0m )\u001b[38;5;241m.\u001b[39mwith_columns(\n\u001b[0;32m      5\u001b[0m     (pl\u001b[38;5;241m.\u001b[39mcol(CONFIG\u001b[38;5;241m.\u001b[39mtarget_col))\u001b[38;5;241m.\u001b[39mcast(pl\u001b[38;5;241m.\u001b[39mInt32)\u001b[38;5;241m.\u001b[39malias(\u001b[38;5;124m\"\u001b[39m\u001b[38;5;124mlabel\u001b[39m\u001b[38;5;124m\"\u001b[39m),\n\u001b[0;32m      6\u001b[0m )\u001b[38;5;241m.\u001b[39mfilter(pl\u001b[38;5;241m.\u001b[39mcol(\u001b[38;5;124m\"\u001b[39m\u001b[38;5;124mdate_id\u001b[39m\u001b[38;5;124m\"\u001b[39m) \u001b[38;5;241m>\u001b[39m\u001b[38;5;241m=\u001b[39m CONFIG\u001b[38;5;241m.\u001b[39mstart_dt)\n\u001b[1;32m----> 7\u001b[0m \u001b[43mtrain\u001b[49m\u001b[38;5;241;43m.\u001b[39;49m\u001b[43mcollect\u001b[49m\u001b[43m(\u001b[49m\u001b[43m)\u001b[49m\n",
      "File \u001b[1;32md:\\wuwenda\\py3.12\\Lib\\site-packages\\polars\\lazyframe\\frame.py:2029\u001b[0m, in \u001b[0;36mLazyFrame.collect\u001b[1;34m(self, type_coercion, predicate_pushdown, projection_pushdown, simplify_expression, slice_pushdown, comm_subplan_elim, comm_subexpr_elim, cluster_with_columns, collapse_joins, no_optimization, streaming, engine, background, _eager, **_kwargs)\u001b[0m\n\u001b[0;32m   2027\u001b[0m \u001b[38;5;66;03m# Only for testing purposes\u001b[39;00m\n\u001b[0;32m   2028\u001b[0m callback \u001b[38;5;241m=\u001b[39m _kwargs\u001b[38;5;241m.\u001b[39mget(\u001b[38;5;124m\"\u001b[39m\u001b[38;5;124mpost_opt_callback\u001b[39m\u001b[38;5;124m\"\u001b[39m, callback)\n\u001b[1;32m-> 2029\u001b[0m \u001b[38;5;28;01mreturn\u001b[39;00m wrap_df(\u001b[43mldf\u001b[49m\u001b[38;5;241;43m.\u001b[39;49m\u001b[43mcollect\u001b[49m\u001b[43m(\u001b[49m\u001b[43mcallback\u001b[49m\u001b[43m)\u001b[49m)\n",
      "\u001b[1;31mFileNotFoundError\u001b[0m: 系统找不到指定的路径。 (os error 3): ...autodl-tmp/JaneStreeReal2024/jane-street-real-time-market-data-forecasting/train.parquet\n\nThis error occurred with the following context stack:\n\t[1] 'parquet scan'\n\t[2] 'select'\n\t[3] 'with_columns'\n\t[4] 'filter'\n"
     ]
    }
   ],
   "source": [
    "train = pl.scan_parquet(\"/root/autodl-tmp/JaneStreeReal2024/jane-street-real-time-market-data-forecasting/train.parquet\").select(\n",
    "    pl.int_range(pl.len(), dtype=pl.UInt32).alias(\"id\"),\n",
    "    pl.all(),\n",
    ").with_columns(\n",
    "    (pl.col(CONFIG.target_col)).cast(pl.Int32).alias(\"label\"),\n",
    ").filter(pl.col(\"date_id\") >= CONFIG.start_dt)\n",
    "train.collect()"
   ]
  },
  {
   "cell_type": "code",
   "execution_count": 7,
   "metadata": {},
   "outputs": [
    {
     "data": {
      "text/html": [
       "<div><style>\n",
       ".dataframe > thead > tr,\n",
       ".dataframe > tbody > tr {\n",
       "  text-align: right;\n",
       "  white-space: pre-wrap;\n",
       "}\n",
       "</style>\n",
       "<small>shape: (9, 2)</small><table border=\"1\" class=\"dataframe\"><thead><tr><th>statistic</th><th>label</th></tr><tr><td>str</td><td>f64</td></tr></thead><tbody><tr><td>&quot;count&quot;</td><td>2.8786384e7</td></tr><tr><td>&quot;null_count&quot;</td><td>0.0</td></tr><tr><td>&quot;mean&quot;</td><td>0.019956</td></tr><tr><td>&quot;std&quot;</td><td>0.629117</td></tr><tr><td>&quot;min&quot;</td><td>-5.0</td></tr><tr><td>&quot;25%&quot;</td><td>0.0</td></tr><tr><td>&quot;50%&quot;</td><td>0.0</td></tr><tr><td>&quot;75%&quot;</td><td>0.0</td></tr><tr><td>&quot;max&quot;</td><td>5.0</td></tr></tbody></table></div>"
      ],
      "text/plain": [
       "shape: (9, 2)\n",
       "┌────────────┬─────────────┐\n",
       "│ statistic  ┆ label       │\n",
       "│ ---        ┆ ---         │\n",
       "│ str        ┆ f64         │\n",
       "╞════════════╪═════════════╡\n",
       "│ count      ┆ 2.8786384e7 │\n",
       "│ null_count ┆ 0.0         │\n",
       "│ mean       ┆ 0.019956    │\n",
       "│ std        ┆ 0.629117    │\n",
       "│ min        ┆ -5.0        │\n",
       "│ 25%        ┆ 0.0         │\n",
       "│ 50%        ┆ 0.0         │\n",
       "│ 75%        ┆ 0.0         │\n",
       "│ max        ┆ 5.0         │\n",
       "└────────────┴─────────────┘"
      ]
     },
     "execution_count": 7,
     "metadata": {},
     "output_type": "execute_result"
    }
   ],
   "source": [
    "train.select(pl.col(\"label\")).collect().describe()"
   ]
  },
  {
   "cell_type": "code",
   "execution_count": 8,
   "metadata": {},
   "outputs": [],
   "source": [
    "lags = train.select(pl.col(CONFIG.lag_cols_original)).rename(CONFIG.lag_cols_rename).with_columns(\n",
    "    date_id = pl.col('date_id') + 1\n",
    ")\n",
    "lags = lags.group_by([\"date_id\", \"symbol_id\"], maintain_order=True).last()\n"
   ]
  },
  {
   "cell_type": "code",
   "execution_count": 9,
   "metadata": {},
   "outputs": [
    {
     "data": {
      "text/html": [
       "<div><style>\n",
       ".dataframe > thead > tr,\n",
       ".dataframe > tbody > tr {\n",
       "  text-align: right;\n",
       "  white-space: pre-wrap;\n",
       "}\n",
       "</style>\n",
       "<small>shape: (28_786_384, 104)</small><table border=\"1\" class=\"dataframe\"><thead><tr><th>id</th><th>date_id</th><th>time_id</th><th>symbol_id</th><th>weight</th><th>feature_00</th><th>feature_01</th><th>feature_02</th><th>feature_03</th><th>feature_04</th><th>feature_05</th><th>feature_06</th><th>feature_07</th><th>feature_08</th><th>feature_09</th><th>feature_10</th><th>feature_11</th><th>feature_12</th><th>feature_13</th><th>feature_14</th><th>feature_15</th><th>feature_16</th><th>feature_17</th><th>feature_18</th><th>feature_19</th><th>feature_20</th><th>feature_21</th><th>feature_22</th><th>feature_23</th><th>feature_24</th><th>feature_25</th><th>feature_26</th><th>feature_27</th><th>feature_28</th><th>feature_29</th><th>feature_30</th><th>feature_31</th><th>&hellip;</th><th>feature_62</th><th>feature_63</th><th>feature_64</th><th>feature_65</th><th>feature_66</th><th>feature_67</th><th>feature_68</th><th>feature_69</th><th>feature_70</th><th>feature_71</th><th>feature_72</th><th>feature_73</th><th>feature_74</th><th>feature_75</th><th>feature_76</th><th>feature_77</th><th>feature_78</th><th>responder_0</th><th>responder_1</th><th>responder_2</th><th>responder_3</th><th>responder_4</th><th>responder_5</th><th>responder_6</th><th>responder_7</th><th>responder_8</th><th>partition_id</th><th>label</th><th>responder_0_lag_1</th><th>responder_1_lag_1</th><th>responder_2_lag_1</th><th>responder_3_lag_1</th><th>responder_4_lag_1</th><th>responder_5_lag_1</th><th>responder_6_lag_1</th><th>responder_7_lag_1</th><th>responder_8_lag_1</th></tr><tr><td>u32</td><td>i16</td><td>i16</td><td>i8</td><td>f32</td><td>f32</td><td>f32</td><td>f32</td><td>f32</td><td>f32</td><td>f32</td><td>f32</td><td>f32</td><td>f32</td><td>i8</td><td>i8</td><td>i16</td><td>f32</td><td>f32</td><td>f32</td><td>f32</td><td>f32</td><td>f32</td><td>f32</td><td>f32</td><td>f32</td><td>f32</td><td>f32</td><td>f32</td><td>f32</td><td>f32</td><td>f32</td><td>f32</td><td>f32</td><td>f32</td><td>f32</td><td>f32</td><td>&hellip;</td><td>f32</td><td>f32</td><td>f32</td><td>f32</td><td>f32</td><td>f32</td><td>f32</td><td>f32</td><td>f32</td><td>f32</td><td>f32</td><td>f32</td><td>f32</td><td>f32</td><td>f32</td><td>f32</td><td>f32</td><td>f32</td><td>f32</td><td>f32</td><td>f32</td><td>f32</td><td>f32</td><td>f32</td><td>f32</td><td>f32</td><td>i64</td><td>i32</td><td>f32</td><td>f32</td><td>f32</td><td>f32</td><td>f32</td><td>f32</td><td>f32</td><td>f32</td><td>f32</td></tr></thead><tbody><tr><td>18340954</td><td>900</td><td>0</td><td>0</td><td>2.371006</td><td>-0.362016</td><td>-0.696294</td><td>-0.019394</td><td>0.334306</td><td>2.253981</td><td>-0.439977</td><td>1.573309</td><td>0.352227</td><td>-0.044843</td><td>11</td><td>7</td><td>76</td><td>-1.099241</td><td>0.309228</td><td>-0.635026</td><td>null</td><td>0.283982</td><td>null</td><td>-1.131046</td><td>-1.035899</td><td>-0.278812</td><td>-0.20908</td><td>0.703597</td><td>1.203631</td><td>-0.339501</td><td>-0.719582</td><td>1.039576</td><td>1.153007</td><td>0.741938</td><td>0.226457</td><td>0.173083</td><td>-0.184055</td><td>&hellip;</td><td>-0.271329</td><td>-0.03082</td><td>-0.0478</td><td>-1.575859</td><td>-1.533297</td><td>-1.003211</td><td>0.300566</td><td>-0.365393</td><td>-0.894165</td><td>0.097043</td><td>-0.709909</td><td>null</td><td>null</td><td>-0.167952</td><td>-0.297251</td><td>-0.272094</td><td>-0.252341</td><td>-0.112829</td><td>-0.075709</td><td>0.541234</td><td>-0.566407</td><td>-0.626564</td><td>-0.746171</td><td>-0.716941</td><td>-0.455068</td><td>-1.3275</td><td>5</td><td>0</td><td>null</td><td>null</td><td>null</td><td>null</td><td>null</td><td>null</td><td>null</td><td>null</td><td>null</td></tr><tr><td>18340955</td><td>900</td><td>0</td><td>1</td><td>3.687028</td><td>0.293689</td><td>-0.603608</td><td>-0.674807</td><td>0.024626</td><td>1.889744</td><td>-0.53366</td><td>1.414847</td><td>0.289346</td><td>-0.053265</td><td>11</td><td>7</td><td>76</td><td>-0.914842</td><td>0.195611</td><td>-0.587876</td><td>null</td><td>-0.285317</td><td>null</td><td>-0.842046</td><td>-0.823002</td><td>-0.059361</td><td>0.087735</td><td>1.852966</td><td>1.646581</td><td>0.009873</td><td>-0.733066</td><td>0.425621</td><td>1.664557</td><td>2.13886</td><td>-0.236449</td><td>-0.290679</td><td>0.084217</td><td>&hellip;</td><td>-0.223109</td><td>-0.179489</td><td>-0.277511</td><td>-1.639956</td><td>-1.501274</td><td>-0.977827</td><td>0.123375</td><td>-0.45289</td><td>-1.133464</td><td>0.257559</td><td>-0.640283</td><td>null</td><td>null</td><td>-0.208362</td><td>-0.267925</td><td>-0.177973</td><td>-0.295702</td><td>-0.367251</td><td>-0.221843</td><td>-1.160344</td><td>-0.190356</td><td>-0.352678</td><td>-1.381038</td><td>-0.193624</td><td>-0.209931</td><td>-0.81559</td><td>5</td><td>0</td><td>null</td><td>null</td><td>null</td><td>null</td><td>null</td><td>null</td><td>null</td><td>null</td><td>null</td></tr><tr><td>18340956</td><td>900</td><td>0</td><td>2</td><td>1.78284</td><td>0.058466</td><td>-0.616436</td><td>0.16103</td><td>0.153395</td><td>2.325349</td><td>-0.320207</td><td>1.460199</td><td>0.300257</td><td>-0.076107</td><td>81</td><td>2</td><td>59</td><td>-0.961296</td><td>1.546081</td><td>-0.047038</td><td>null</td><td>0.028425</td><td>null</td><td>-1.470194</td><td>-1.869943</td><td>-0.783728</td><td>-0.207264</td><td>0.04208</td><td>-0.31905</td><td>-0.44346</td><td>-0.782183</td><td>0.349521</td><td>1.803328</td><td>1.483842</td><td>-0.595795</td><td>-0.419538</td><td>-0.241272</td><td>&hellip;</td><td>0.015759</td><td>-0.175433</td><td>-0.106617</td><td>-1.93917</td><td>-2.069989</td><td>-0.866594</td><td>1.045068</td><td>-0.377948</td><td>-0.967123</td><td>2.72307</td><td>-0.110954</td><td>null</td><td>null</td><td>0.873847</td><td>0.790283</td><td>-0.040086</td><td>-0.036944</td><td>0.737472</td><td>0.160162</td><td>0.733051</td><td>-0.372516</td><td>-0.768763</td><td>-1.387485</td><td>-1.048492</td><td>-1.776193</td><td>-2.540738</td><td>5</td><td>-1</td><td>null</td><td>null</td><td>null</td><td>null</td><td>null</td><td>null</td><td>null</td><td>null</td><td>null</td></tr><tr><td>18340957</td><td>900</td><td>0</td><td>3</td><td>1.547719</td><td>-0.363907</td><td>-0.387501</td><td>0.061037</td><td>-0.205486</td><td>1.717424</td><td>-0.534499</td><td>1.302091</td><td>0.308245</td><td>-0.043578</td><td>4</td><td>3</td><td>11</td><td>-0.888497</td><td>0.19357</td><td>-0.663478</td><td>null</td><td>0.167434</td><td>null</td><td>-1.538333</td><td>-1.286979</td><td>0.369831</td><td>0.156803</td><td>-0.473849</td><td>-1.029982</td><td>0.385592</td><td>-0.38753</td><td>-0.386601</td><td>-0.874078</td><td>-0.781389</td><td>-0.526571</td><td>-0.850001</td><td>0.172943</td><td>&hellip;</td><td>-0.140429</td><td>0.26251</td><td>-0.012567</td><td>-1.236598</td><td>-1.376425</td><td>-0.819258</td><td>-0.125511</td><td>-0.536088</td><td>-0.662439</td><td>0.331441</td><td>-0.272971</td><td>null</td><td>null</td><td>9.073547</td><td>7.78659</td><td>2.52084</td><td>5.492901</td><td>-0.062704</td><td>-0.086862</td><td>-0.02496</td><td>1.408547</td><td>-0.392927</td><td>-0.129132</td><td>1.960046</td><td>-0.474515</td><td>-0.122464</td><td>5</td><td>1</td><td>null</td><td>null</td><td>null</td><td>null</td><td>null</td><td>null</td><td>null</td><td>null</td><td>null</td></tr><tr><td>18340958</td><td>900</td><td>0</td><td>7</td><td>2.320256</td><td>-0.254111</td><td>-0.727723</td><td>-0.168957</td><td>0.264305</td><td>2.023745</td><td>-0.53854</td><td>1.686796</td><td>0.384101</td><td>-0.059297</td><td>11</td><td>7</td><td>76</td><td>-1.186049</td><td>-0.520586</td><td>-0.607425</td><td>null</td><td>1.152275</td><td>null</td><td>-0.919511</td><td>-1.271852</td><td>0.721635</td><td>0.035307</td><td>0.375869</td><td>2.085817</td><td>-0.115594</td><td>-0.832953</td><td>-0.981918</td><td>0.761649</td><td>0.603729</td><td>1.783795</td><td>1.488107</td><td>0.04045</td><td>&hellip;</td><td>-0.161465</td><td>0.28516</td><td>0.159623</td><td>-2.008134</td><td>-1.425322</td><td>-0.859137</td><td>-0.265254</td><td>-0.689399</td><td>-1.158431</td><td>-0.357917</td><td>-0.6256</td><td>null</td><td>null</td><td>-0.246888</td><td>-0.213367</td><td>-0.299885</td><td>-0.223796</td><td>-0.041207</td><td>-0.50557</td><td>0.181291</td><td>-1.067922</td><td>-0.632572</td><td>-1.787657</td><td>-0.755364</td><td>-0.257752</td><td>-3.729681</td><td>5</td><td>0</td><td>null</td><td>null</td><td>null</td><td>null</td><td>null</td><td>null</td><td>null</td><td>null</td><td>null</td></tr><tr><td>&hellip;</td><td>&hellip;</td><td>&hellip;</td><td>&hellip;</td><td>&hellip;</td><td>&hellip;</td><td>&hellip;</td><td>&hellip;</td><td>&hellip;</td><td>&hellip;</td><td>&hellip;</td><td>&hellip;</td><td>&hellip;</td><td>&hellip;</td><td>&hellip;</td><td>&hellip;</td><td>&hellip;</td><td>&hellip;</td><td>&hellip;</td><td>&hellip;</td><td>&hellip;</td><td>&hellip;</td><td>&hellip;</td><td>&hellip;</td><td>&hellip;</td><td>&hellip;</td><td>&hellip;</td><td>&hellip;</td><td>&hellip;</td><td>&hellip;</td><td>&hellip;</td><td>&hellip;</td><td>&hellip;</td><td>&hellip;</td><td>&hellip;</td><td>&hellip;</td><td>&hellip;</td><td>&hellip;</td><td>&hellip;</td><td>&hellip;</td><td>&hellip;</td><td>&hellip;</td><td>&hellip;</td><td>&hellip;</td><td>&hellip;</td><td>&hellip;</td><td>&hellip;</td><td>&hellip;</td><td>&hellip;</td><td>&hellip;</td><td>&hellip;</td><td>&hellip;</td><td>&hellip;</td><td>&hellip;</td><td>&hellip;</td><td>&hellip;</td><td>&hellip;</td><td>&hellip;</td><td>&hellip;</td><td>&hellip;</td><td>&hellip;</td><td>&hellip;</td><td>&hellip;</td><td>&hellip;</td><td>&hellip;</td><td>&hellip;</td><td>&hellip;</td><td>&hellip;</td><td>&hellip;</td><td>&hellip;</td><td>&hellip;</td><td>&hellip;</td><td>&hellip;</td><td>&hellip;</td><td>&hellip;</td></tr><tr><td>47127333</td><td>1698</td><td>967</td><td>34</td><td>3.242493</td><td>2.52516</td><td>-0.721981</td><td>2.544025</td><td>2.477615</td><td>0.417557</td><td>0.785812</td><td>1.117796</td><td>2.199436</td><td>0.415427</td><td>42</td><td>5</td><td>150</td><td>0.804403</td><td>1.157257</td><td>1.031543</td><td>-0.671189</td><td>-0.3286</td><td>-0.486132</td><td>1.730176</td><td>-0.006173</td><td>-0.001144</td><td>-0.213062</td><td>0.932618</td><td>1.367338</td><td>-0.238197</td><td>-0.692615</td><td>-0.121163</td><td>1.090798</td><td>1.444294</td><td>-0.675626</td><td>-1.013264</td><td>-0.242888</td><td>&hellip;</td><td>-0.384833</td><td>-0.275818</td><td>-0.40804</td><td>2.427115</td><td>-0.108427</td><td>0.739734</td><td>0.830205</td><td>0.366287</td><td>1.33325</td><td>1.075499</td><td>1.798264</td><td>-0.183443</td><td>-0.190222</td><td>0.234211</td><td>0.347142</td><td>-0.044463</td><td>0.016936</td><td>0.243475</td><td>0.166927</td><td>0.38494</td><td>-0.174297</td><td>-0.066046</td><td>-0.038767</td><td>-0.132337</td><td>-0.022426</td><td>-0.252461</td><td>9</td><td>0</td><td>0.501321</td><td>0.905332</td><td>-0.819582</td><td>-0.564046</td><td>-0.223018</td><td>-0.283954</td><td>-0.045938</td><td>0.009797</td><td>-0.102538</td></tr><tr><td>47127334</td><td>1698</td><td>967</td><td>35</td><td>1.079139</td><td>1.857906</td><td>-0.790646</td><td>2.745439</td><td>2.339877</td><td>0.845065</td><td>0.65137</td><td>1.180301</td><td>1.966379</td><td>0.321543</td><td>25</td><td>7</td><td>195</td><td>-0.075294</td><td>-0.152726</td><td>-0.20417</td><td>-0.421137</td><td>0.21708</td><td>-0.258775</td><td>1.874978</td><td>0.19988</td><td>-0.199219</td><td>-0.125619</td><td>-1.004547</td><td>-0.051933</td><td>0.450905</td><td>0.009246</td><td>0.164127</td><td>-0.939974</td><td>-1.143421</td><td>-0.320071</td><td>-0.379835</td><td>-0.142429</td><td>&hellip;</td><td>-0.343868</td><td>-0.253991</td><td>-0.278832</td><td>2.050639</td><td>-0.059506</td><td>-0.029396</td><td>-0.101381</td><td>-0.187759</td><td>-0.180839</td><td>-0.0861</td><td>-0.153405</td><td>-0.196077</td><td>-0.175292</td><td>1.04578</td><td>0.739733</td><td>0.03372</td><td>0.05086</td><td>0.850152</td><td>0.909382</td><td>1.015314</td><td>0.235962</td><td>0.122539</td><td>0.099559</td><td>-0.249584</td><td>-0.123571</td><td>-0.46063</td><td>9</td><td>0</td><td>-1.113053</td><td>0.69719</td><td>-1.619031</td><td>-1.222743</td><td>-0.706082</td><td>-0.291133</td><td>0.167733</td><td>0.099704</td><td>0.32461</td></tr><tr><td>47127335</td><td>1698</td><td>967</td><td>36</td><td>1.033172</td><td>2.515527</td><td>-0.672298</td><td>2.28925</td><td>2.521592</td><td>0.255077</td><td>0.919892</td><td>1.172018</td><td>2.180496</td><td>0.24846</td><td>49</td><td>7</td><td>297</td><td>1.026715</td><td>-0.096892</td><td>0.224309</td><td>-0.528109</td><td>-0.704952</td><td>-0.704818</td><td>2.312482</td><td>0.32804</td><td>-0.108193</td><td>null</td><td>-0.945684</td><td>-0.244173</td><td>0.205989</td><td>-0.357343</td><td>null</td><td>null</td><td>-1.11075</td><td>-0.580242</td><td>-0.400568</td><td>null</td><td>&hellip;</td><td>-0.341991</td><td>-0.249132</td><td>-0.34365</td><td>2.251358</td><td>0.601888</td><td>1.035051</td><td>-0.283241</td><td>0.107244</td><td>0.86016</td><td>0.024223</td><td>0.374852</td><td>-0.220933</td><td>-0.161584</td><td>0.032771</td><td>0.036888</td><td>0.168908</td><td>0.152333</td><td>0.395684</td><td>-0.292574</td><td>-3.215846</td><td>-0.535129</td><td>-0.178484</td><td>-1.80815</td><td>-0.065355</td><td>-0.000367</td><td>-0.12517</td><td>9</td><td>0</td><td>-1.019353</td><td>-0.460962</td><td>-2.026678</td><td>-0.848606</td><td>-0.305448</td><td>-1.256913</td><td>-0.109359</td><td>-0.027474</td><td>-0.253956</td></tr><tr><td>47127336</td><td>1698</td><td>967</td><td>37</td><td>1.243116</td><td>2.663298</td><td>-0.889112</td><td>2.313155</td><td>3.101428</td><td>0.324454</td><td>0.618944</td><td>1.185663</td><td>1.599724</td><td>0.319719</td><td>34</td><td>4</td><td>214</td><td>0.759314</td><td>0.284057</td><td>0.41716</td><td>-0.611075</td><td>-0.513717</td><td>-0.891423</td><td>1.84994</td><td>0.406756</td><td>-1.608196</td><td>-0.252663</td><td>-0.271574</td><td>-0.051405</td><td>0.098146</td><td>-0.653961</td><td>0.173676</td><td>-0.016497</td><td>-0.404509</td><td>-0.577262</td><td>-0.731429</td><td>-0.21646</td><td>&hellip;</td><td>-0.358106</td><td>-0.141883</td><td>-0.255192</td><td>2.489247</td><td>0.537652</td><td>0.982107</td><td>-0.158009</td><td>0.137389</td><td>0.478357</td><td>0.782692</td><td>0.581421</td><td>-0.106056</td><td>-0.111017</td><td>0.163867</td><td>0.169331</td><td>-0.037563</td><td>-0.029483</td><td>1.925987</td><td>0.479394</td><td>3.621867</td><td>-0.107114</td><td>-0.063599</td><td>1.204755</td><td>-0.148711</td><td>-0.026583</td><td>-0.256395</td><td>9</td><td>0</td><td>0.23585</td><td>0.556479</td><td>0.618944</td><td>-0.243765</td><td>-0.108361</td><td>-0.260777</td><td>-0.486923</td><td>-0.275566</td><td>-1.020708</td></tr><tr><td>47127337</td><td>1698</td><td>967</td><td>38</td><td>3.193685</td><td>2.728506</td><td>-0.745238</td><td>2.788789</td><td>2.343393</td><td>0.454731</td><td>0.862839</td><td>0.964795</td><td>2.089673</td><td>0.344931</td><td>50</td><td>1</td><td>522</td><td>0.406531</td><td>0.618247</td><td>1.01327</td><td>-0.952069</td><td>-0.679168</td><td>-0.597603</td><td>0.375125</td><td>1.97537</td><td>-0.440974</td><td>-0.072018</td><td>1.741353</td><td>1.380735</td><td>-0.110494</td><td>-0.874806</td><td>0.553424</td><td>0.532243</td><td>0.263214</td><td>-0.757856</td><td>-0.869204</td><td>-0.062955</td><td>&hellip;</td><td>-0.622853</td><td>-0.363631</td><td>-0.395652</td><td>-0.016812</td><td>2.016734</td><td>0.241486</td><td>0.253229</td><td>0.228745</td><td>0.462717</td><td>0.799635</td><td>0.706102</td><td>-0.376377</td><td>-0.286764</td><td>-0.359046</td><td>-0.246135</td><td>-0.288941</td><td>-0.247774</td><td>1.228778</td><td>0.512562</td><td>-0.050865</td><td>0.160883</td><td>0.080756</td><td>-0.078237</td><td>-0.138548</td><td>-0.038771</td><td>-0.21194</td><td>9</td><td>0</td><td>0.542563</td><td>0.513193</td><td>0.814393</td><td>0.032767</td><td>0.025435</td><td>0.311465</td><td>-0.044797</td><td>0.011133</td><td>-0.0793</td></tr></tbody></table></div>"
      ],
      "text/plain": [
       "shape: (28_786_384, 104)\n",
       "┌──────────┬─────────┬─────────┬───────────┬───┬────────────┬────────────┬────────────┬────────────┐\n",
       "│ id       ┆ date_id ┆ time_id ┆ symbol_id ┆ … ┆ responder_ ┆ responder_ ┆ responder_ ┆ responder_ │\n",
       "│ ---      ┆ ---     ┆ ---     ┆ ---       ┆   ┆ 5_lag_1    ┆ 6_lag_1    ┆ 7_lag_1    ┆ 8_lag_1    │\n",
       "│ u32      ┆ i16     ┆ i16     ┆ i8        ┆   ┆ ---        ┆ ---        ┆ ---        ┆ ---        │\n",
       "│          ┆         ┆         ┆           ┆   ┆ f32        ┆ f32        ┆ f32        ┆ f32        │\n",
       "╞══════════╪═════════╪═════════╪═══════════╪═══╪════════════╪════════════╪════════════╪════════════╡\n",
       "│ 18340954 ┆ 900     ┆ 0       ┆ 0         ┆ … ┆ null       ┆ null       ┆ null       ┆ null       │\n",
       "│ 18340955 ┆ 900     ┆ 0       ┆ 1         ┆ … ┆ null       ┆ null       ┆ null       ┆ null       │\n",
       "│ 18340956 ┆ 900     ┆ 0       ┆ 2         ┆ … ┆ null       ┆ null       ┆ null       ┆ null       │\n",
       "│ 18340957 ┆ 900     ┆ 0       ┆ 3         ┆ … ┆ null       ┆ null       ┆ null       ┆ null       │\n",
       "│ 18340958 ┆ 900     ┆ 0       ┆ 7         ┆ … ┆ null       ┆ null       ┆ null       ┆ null       │\n",
       "│ …        ┆ …       ┆ …       ┆ …         ┆ … ┆ …          ┆ …          ┆ …          ┆ …          │\n",
       "│ 47127333 ┆ 1698    ┆ 967     ┆ 34        ┆ … ┆ -0.283954  ┆ -0.045938  ┆ 0.009797   ┆ -0.102538  │\n",
       "│ 47127334 ┆ 1698    ┆ 967     ┆ 35        ┆ … ┆ -0.291133  ┆ 0.167733   ┆ 0.099704   ┆ 0.32461    │\n",
       "│ 47127335 ┆ 1698    ┆ 967     ┆ 36        ┆ … ┆ -1.256913  ┆ -0.109359  ┆ -0.027474  ┆ -0.253956  │\n",
       "│ 47127336 ┆ 1698    ┆ 967     ┆ 37        ┆ … ┆ -0.260777  ┆ -0.486923  ┆ -0.275566  ┆ -1.020708  │\n",
       "│ 47127337 ┆ 1698    ┆ 967     ┆ 38        ┆ … ┆ 0.311465   ┆ -0.044797  ┆ 0.011133   ┆ -0.0793    │\n",
       "└──────────┴─────────┴─────────┴───────────┴───┴────────────┴────────────┴────────────┴────────────┘"
      ]
     },
     "execution_count": 9,
     "metadata": {},
     "output_type": "execute_result"
    }
   ],
   "source": [
    "train = train.join(lags, on=[\"date_id\", \"symbol_id\"], how=\"left\")\n",
    "train.collect()"
   ]
  },
  {
   "cell_type": "code",
   "execution_count": 25,
   "metadata": {},
   "outputs": [
    {
     "name": "stdout",
     "output_type": "stream",
     "text": [
      "shape: (5, 71)\n",
      "┌────────────┬────────┬───────────┬───────────┬───┬────────────┬───────────┬───────────┬───────────┐\n",
      "│ date       ┆ clus   ┆ in        ┆ out       ┆ … ┆ Lag_out_28 ┆ Lag_out_2 ┆ Rolling_M ┆ __index_l │\n",
      "│ ---        ┆ ---    ┆ ---       ┆ ---       ┆   ┆ ---        ┆ 9         ┆ ean_out   ┆ evel_0__  │\n",
      "│ datetime[n ┆ str    ┆ f64       ┆ f64       ┆   ┆ f64        ┆ ---       ┆ ---       ┆ ---       │\n",
      "│ s]         ┆        ┆           ┆           ┆   ┆            ┆ f64       ┆ f64       ┆ i64       │\n",
      "╞════════════╪════════╪═══════════╪═══════════╪═══╪════════════╪═══════════╪═══════════╪═══════════╡\n",
      "│ 2021-01-01 ┆ CLUS_0 ┆ 52.452394 ┆ 37.550255 ┆ … ┆ 0.0        ┆ 0.0       ┆ 0.0       ┆ 0         │\n",
      "│ 00:00:00   ┆        ┆           ┆           ┆   ┆            ┆           ┆           ┆           │\n",
      "│ 2021-01-02 ┆ CLUS_0 ┆ 43.203711 ┆ 31.955574 ┆ … ┆ 0.0        ┆ 0.0       ┆ 0.0       ┆ 1         │\n",
      "│ 00:00:00   ┆        ┆           ┆           ┆   ┆            ┆           ┆           ┆           │\n",
      "│ 2021-01-03 ┆ CLUS_0 ┆ 72.309778 ┆ 63.142757 ┆ … ┆ 0.0        ┆ 0.0       ┆ 44.216195 ┆ 2         │\n",
      "│ 00:00:00   ┆        ┆           ┆           ┆   ┆            ┆           ┆           ┆           │\n",
      "│ 2021-01-04 ┆ CLUS_0 ┆ 45.957601 ┆ 54.307569 ┆ … ┆ 0.0        ┆ 0.0       ┆ 49.801967 ┆ 3         │\n",
      "│ 00:00:00   ┆        ┆           ┆           ┆   ┆            ┆           ┆           ┆           │\n",
      "│ 2021-01-05 ┆ CLUS_0 ┆ 52.805698 ┆ 49.549932 ┆ … ┆ 0.0        ┆ 0.0       ┆ 55.666752 ┆ 4         │\n",
      "│ 00:00:00   ┆        ┆           ┆           ┆   ┆            ┆           ┆           ┆           │\n",
      "└────────────┴────────┴───────────┴───────────┴───┴────────────┴───────────┴───────────┴───────────┘\n",
      "len_train: 547, len_ofl_mdl: 438, last_tr_dt: 514\n"
     ]
    }
   ],
   "source": [
    "# 读入train_data.parquet\n",
    "import polars as pl\n",
    "import numpy as np\n",
    "from tqdm import tqdm\n",
    "train = pl.read_parquet(\n",
    "    f\"train_data.parquet\"\n",
    ").fill_null(strategy=\"forward\").fill_null(0)\n",
    "print(train.head())\n",
    "\n",
    "# 将train的索引列也作为一列，起名date_id\n",
    "train = train.with_columns(pl.Series(range(len(train))).alias(\"date_id\"))\n",
    "\n",
    "len_train = train.select(pl.col(\"date_id\")).shape[0]\n",
    "valid_records = int(len_train * CONFIG.valid_ratio)\n",
    "len_ofl_mdl = len_train - valid_records\n",
    "last_tr_dt = 574 - CONFIG.valid_date_length\n",
    "\n",
    "print(f\"len_train: {len_train}, len_ofl_mdl: {len_ofl_mdl}, last_tr_dt: {last_tr_dt}\")\n",
    "\n",
    "training_data = train.filter(pl.col(\"date_id\") <= last_tr_dt)\n",
    "validation_data = train.filter(pl.col(\"date_id\") > last_tr_dt)"
   ]
  },
  {
   "cell_type": "code",
   "execution_count": 26,
   "metadata": {},
   "outputs": [
    {
     "data": {
      "text/html": [
       "<div><style>\n",
       ".dataframe > thead > tr,\n",
       ".dataframe > tbody > tr {\n",
       "  text-align: right;\n",
       "  white-space: pre-wrap;\n",
       "}\n",
       "</style>\n",
       "<small>shape: (32, 72)</small><table border=\"1\" class=\"dataframe\"><thead><tr><th>date</th><th>clus</th><th>in</th><th>out</th><th>weekday</th><th>is_month_end</th><th>Year</th><th>Month</th><th>Day</th><th>DayOfWeek</th><th>IsWeekend</th><th>Lag_in_1</th><th>Lag_in_2</th><th>Lag_in_3</th><th>Lag_in_4</th><th>Lag_in_5</th><th>Lag_in_6</th><th>Lag_in_7</th><th>Lag_in_8</th><th>Lag_in_9</th><th>Lag_in_10</th><th>Lag_in_11</th><th>Lag_in_12</th><th>Lag_in_13</th><th>Lag_in_14</th><th>Lag_in_15</th><th>Lag_in_16</th><th>Lag_in_17</th><th>Lag_in_18</th><th>Lag_in_19</th><th>Lag_in_20</th><th>Lag_in_21</th><th>Lag_in_22</th><th>Lag_in_23</th><th>Lag_in_24</th><th>Lag_in_25</th><th>Lag_in_26</th><th>Lag_in_27</th><th>Lag_in_28</th><th>Lag_in_29</th><th>Lag_out_1</th><th>Lag_out_2</th><th>Lag_out_3</th><th>Lag_out_4</th><th>Lag_out_5</th><th>Lag_out_6</th><th>Lag_out_7</th><th>Lag_out_8</th><th>Lag_out_9</th><th>Lag_out_10</th><th>Lag_out_11</th><th>Lag_out_12</th><th>Lag_out_13</th><th>Lag_out_14</th><th>Lag_out_15</th><th>Lag_out_16</th><th>Lag_out_17</th><th>Lag_out_18</th><th>Lag_out_19</th><th>Lag_out_20</th><th>Lag_out_21</th><th>Lag_out_22</th><th>Lag_out_23</th><th>Lag_out_24</th><th>Lag_out_25</th><th>Lag_out_26</th><th>Lag_out_27</th><th>Lag_out_28</th><th>Lag_out_29</th><th>Rolling_Mean_out</th><th>__index_level_0__</th><th>date_id</th></tr><tr><td>datetime[ns]</td><td>str</td><td>f64</td><td>f64</td><td>i32</td><td>i32</td><td>i32</td><td>i32</td><td>i32</td><td>i32</td><td>bool</td><td>f64</td><td>f64</td><td>f64</td><td>f64</td><td>f64</td><td>f64</td><td>f64</td><td>f64</td><td>f64</td><td>f64</td><td>f64</td><td>f64</td><td>f64</td><td>f64</td><td>f64</td><td>f64</td><td>f64</td><td>f64</td><td>f64</td><td>f64</td><td>f64</td><td>f64</td><td>f64</td><td>f64</td><td>f64</td><td>f64</td><td>f64</td><td>f64</td><td>f64</td><td>f64</td><td>f64</td><td>f64</td><td>f64</td><td>f64</td><td>f64</td><td>f64</td><td>f64</td><td>f64</td><td>f64</td><td>f64</td><td>f64</td><td>f64</td><td>f64</td><td>f64</td><td>f64</td><td>f64</td><td>f64</td><td>f64</td><td>f64</td><td>f64</td><td>f64</td><td>f64</td><td>f64</td><td>f64</td><td>f64</td><td>f64</td><td>f64</td><td>f64</td><td>f64</td><td>i64</td><td>i64</td></tr></thead><tbody><tr><td>2022-05-31 00:00:00</td><td>&quot;CLUS_0&quot;</td><td>53.976152</td><td>40.406161</td><td>1</td><td>1</td><td>2022</td><td>5</td><td>31</td><td>1</td><td>false</td><td>4.662911</td><td>19.879322</td><td>21.528228</td><td>14.75734</td><td>33.698604</td><td>23.461617</td><td>18.245968</td><td>12.664323</td><td>25.521668</td><td>22.752256</td><td>24.108283</td><td>27.299695</td><td>40.206727</td><td>38.664216</td><td>18.100451</td><td>32.40505</td><td>43.445318</td><td>24.423013</td><td>28.902644</td><td>52.044051</td><td>53.119769</td><td>59.112789</td><td>52.689355</td><td>47.210181</td><td>58.743756</td><td>47.485608</td><td>51.969071</td><td>41.717183</td><td>75.389799</td><td>18.35743</td><td>27.379669</td><td>7.285988</td><td>12.607962</td><td>19.604749</td><td>38.716081</td><td>33.086717</td><td>23.112011</td><td>31.267495</td><td>23.818757</td><td>26.73275</td><td>30.784121</td><td>16.499863</td><td>39.087852</td><td>40.153834</td><td>50.497729</td><td>42.818621</td><td>29.685652</td><td>58.825108</td><td>36.37129</td><td>42.747944</td><td>39.022483</td><td>48.578121</td><td>37.237364</td><td>56.127602</td><td>53.43053</td><td>64.814179</td><td>58.836899</td><td>49.285493</td><td>28.71442</td><td>515</td><td>515</td></tr><tr><td>2022-06-01 00:00:00</td><td>&quot;CLUS_0&quot;</td><td>1.956125</td><td>4.343676</td><td>2</td><td>0</td><td>2022</td><td>6</td><td>1</td><td>2</td><td>false</td><td>53.976152</td><td>4.662911</td><td>19.879322</td><td>21.528228</td><td>14.75734</td><td>33.698604</td><td>23.461617</td><td>18.245968</td><td>12.664323</td><td>25.521668</td><td>22.752256</td><td>24.108283</td><td>27.299695</td><td>40.206727</td><td>38.664216</td><td>18.100451</td><td>32.40505</td><td>43.445318</td><td>24.423013</td><td>28.902644</td><td>52.044051</td><td>53.119769</td><td>59.112789</td><td>52.689355</td><td>47.210181</td><td>58.743756</td><td>47.485608</td><td>51.969071</td><td>41.717183</td><td>40.406161</td><td>18.35743</td><td>27.379669</td><td>7.285988</td><td>12.607962</td><td>19.604749</td><td>38.716081</td><td>33.086717</td><td>23.112011</td><td>31.267495</td><td>23.818757</td><td>26.73275</td><td>30.784121</td><td>16.499863</td><td>39.087852</td><td>40.153834</td><td>50.497729</td><td>42.818621</td><td>29.685652</td><td>58.825108</td><td>36.37129</td><td>42.747944</td><td>39.022483</td><td>48.578121</td><td>37.237364</td><td>56.127602</td><td>53.43053</td><td>64.814179</td><td>58.836899</td><td>21.035756</td><td>516</td><td>516</td></tr><tr><td>2022-06-02 00:00:00</td><td>&quot;CLUS_0&quot;</td><td>16.918584</td><td>12.603675</td><td>3</td><td>0</td><td>2022</td><td>6</td><td>2</td><td>3</td><td>false</td><td>1.956125</td><td>53.976152</td><td>4.662911</td><td>19.879322</td><td>21.528228</td><td>14.75734</td><td>33.698604</td><td>23.461617</td><td>18.245968</td><td>12.664323</td><td>25.521668</td><td>22.752256</td><td>24.108283</td><td>27.299695</td><td>40.206727</td><td>38.664216</td><td>18.100451</td><td>32.40505</td><td>43.445318</td><td>24.423013</td><td>28.902644</td><td>52.044051</td><td>53.119769</td><td>59.112789</td><td>52.689355</td><td>47.210181</td><td>58.743756</td><td>47.485608</td><td>51.969071</td><td>4.343676</td><td>40.406161</td><td>18.35743</td><td>27.379669</td><td>7.285988</td><td>12.607962</td><td>19.604749</td><td>38.716081</td><td>33.086717</td><td>23.112011</td><td>31.267495</td><td>23.818757</td><td>26.73275</td><td>30.784121</td><td>16.499863</td><td>39.087852</td><td>40.153834</td><td>50.497729</td><td>42.818621</td><td>29.685652</td><td>58.825108</td><td>36.37129</td><td>42.747944</td><td>39.022483</td><td>48.578121</td><td>37.237364</td><td>56.127602</td><td>53.43053</td><td>64.814179</td><td>19.117837</td><td>517</td><td>517</td></tr><tr><td>2022-06-03 00:00:00</td><td>&quot;CLUS_0&quot;</td><td>18.601334</td><td>17.817283</td><td>4</td><td>0</td><td>2022</td><td>6</td><td>3</td><td>4</td><td>false</td><td>16.918584</td><td>1.956125</td><td>53.976152</td><td>4.662911</td><td>19.879322</td><td>21.528228</td><td>14.75734</td><td>33.698604</td><td>23.461617</td><td>18.245968</td><td>12.664323</td><td>25.521668</td><td>22.752256</td><td>24.108283</td><td>27.299695</td><td>40.206727</td><td>38.664216</td><td>18.100451</td><td>32.40505</td><td>43.445318</td><td>24.423013</td><td>28.902644</td><td>52.044051</td><td>53.119769</td><td>59.112789</td><td>52.689355</td><td>47.210181</td><td>58.743756</td><td>47.485608</td><td>12.603675</td><td>4.343676</td><td>40.406161</td><td>18.35743</td><td>27.379669</td><td>7.285988</td><td>12.607962</td><td>19.604749</td><td>38.716081</td><td>33.086717</td><td>23.112011</td><td>31.267495</td><td>23.818757</td><td>26.73275</td><td>30.784121</td><td>16.499863</td><td>39.087852</td><td>40.153834</td><td>50.497729</td><td>42.818621</td><td>29.685652</td><td>58.825108</td><td>36.37129</td><td>42.747944</td><td>39.022483</td><td>48.578121</td><td>37.237364</td><td>56.127602</td><td>53.43053</td><td>11.588211</td><td>518</td><td>518</td></tr><tr><td>2022-06-04 00:00:00</td><td>&quot;CLUS_0&quot;</td><td>15.547071</td><td>12.957434</td><td>5</td><td>0</td><td>2022</td><td>6</td><td>4</td><td>5</td><td>true</td><td>18.601334</td><td>16.918584</td><td>1.956125</td><td>53.976152</td><td>4.662911</td><td>19.879322</td><td>21.528228</td><td>14.75734</td><td>33.698604</td><td>23.461617</td><td>18.245968</td><td>12.664323</td><td>25.521668</td><td>22.752256</td><td>24.108283</td><td>27.299695</td><td>40.206727</td><td>38.664216</td><td>18.100451</td><td>32.40505</td><td>43.445318</td><td>24.423013</td><td>28.902644</td><td>52.044051</td><td>53.119769</td><td>59.112789</td><td>52.689355</td><td>47.210181</td><td>58.743756</td><td>17.817283</td><td>12.603675</td><td>4.343676</td><td>40.406161</td><td>18.35743</td><td>27.379669</td><td>7.285988</td><td>12.607962</td><td>19.604749</td><td>38.716081</td><td>33.086717</td><td>23.112011</td><td>31.267495</td><td>23.818757</td><td>26.73275</td><td>30.784121</td><td>16.499863</td><td>39.087852</td><td>40.153834</td><td>50.497729</td><td>42.818621</td><td>29.685652</td><td>58.825108</td><td>36.37129</td><td>42.747944</td><td>39.022483</td><td>48.578121</td><td>37.237364</td><td>56.127602</td><td>14.459464</td><td>519</td><td>519</td></tr><tr><td>&hellip;</td><td>&hellip;</td><td>&hellip;</td><td>&hellip;</td><td>&hellip;</td><td>&hellip;</td><td>&hellip;</td><td>&hellip;</td><td>&hellip;</td><td>&hellip;</td><td>&hellip;</td><td>&hellip;</td><td>&hellip;</td><td>&hellip;</td><td>&hellip;</td><td>&hellip;</td><td>&hellip;</td><td>&hellip;</td><td>&hellip;</td><td>&hellip;</td><td>&hellip;</td><td>&hellip;</td><td>&hellip;</td><td>&hellip;</td><td>&hellip;</td><td>&hellip;</td><td>&hellip;</td><td>&hellip;</td><td>&hellip;</td><td>&hellip;</td><td>&hellip;</td><td>&hellip;</td><td>&hellip;</td><td>&hellip;</td><td>&hellip;</td><td>&hellip;</td><td>&hellip;</td><td>&hellip;</td><td>&hellip;</td><td>&hellip;</td><td>&hellip;</td><td>&hellip;</td><td>&hellip;</td><td>&hellip;</td><td>&hellip;</td><td>&hellip;</td><td>&hellip;</td><td>&hellip;</td><td>&hellip;</td><td>&hellip;</td><td>&hellip;</td><td>&hellip;</td><td>&hellip;</td><td>&hellip;</td><td>&hellip;</td><td>&hellip;</td><td>&hellip;</td><td>&hellip;</td><td>&hellip;</td><td>&hellip;</td><td>&hellip;</td><td>&hellip;</td><td>&hellip;</td><td>&hellip;</td><td>&hellip;</td><td>&hellip;</td><td>&hellip;</td><td>&hellip;</td><td>&hellip;</td><td>&hellip;</td><td>&hellip;</td><td>&hellip;</td></tr><tr><td>2022-06-27 00:00:00</td><td>&quot;CLUS_0&quot;</td><td>45.250244</td><td>39.510539</td><td>0</td><td>0</td><td>2022</td><td>6</td><td>27</td><td>0</td><td>false</td><td>42.908983</td><td>47.020039</td><td>43.939686</td><td>53.969219</td><td>38.166542</td><td>31.741385</td><td>25.757204</td><td>30.957898</td><td>23.298625</td><td>22.274204</td><td>36.902187</td><td>32.484351</td><td>9.544107</td><td>47.512364</td><td>26.617093</td><td>21.048537</td><td>37.551968</td><td>11.544783</td><td>14.347768</td><td>16.227689</td><td>14.182738</td><td>37.412559</td><td>15.547071</td><td>18.601334</td><td>16.918584</td><td>1.956125</td><td>53.976152</td><td>4.662911</td><td>19.879322</td><td>29.974563</td><td>36.856269</td><td>32.774536</td><td>30.16847</td><td>29.944768</td><td>14.852496</td><td>19.083269</td><td>35.754403</td><td>24.920546</td><td>25.03691</td><td>28.524138</td><td>35.700687</td><td>28.894444</td><td>22.087501</td><td>17.126502</td><td>13.017213</td><td>11.729919</td><td>16.483672</td><td>19.734235</td><td>18.348716</td><td>15.474151</td><td>22.977685</td><td>12.957434</td><td>17.817283</td><td>12.603675</td><td>4.343676</td><td>40.406161</td><td>18.35743</td><td>27.379669</td><td>35.447123</td><td>542</td><td>542</td></tr><tr><td>2022-06-28 00:00:00</td><td>&quot;CLUS_0&quot;</td><td>49.093008</td><td>40.725765</td><td>1</td><td>0</td><td>2022</td><td>6</td><td>28</td><td>1</td><td>false</td><td>45.250244</td><td>42.908983</td><td>47.020039</td><td>43.939686</td><td>53.969219</td><td>38.166542</td><td>31.741385</td><td>25.757204</td><td>30.957898</td><td>23.298625</td><td>22.274204</td><td>36.902187</td><td>32.484351</td><td>9.544107</td><td>47.512364</td><td>26.617093</td><td>21.048537</td><td>37.551968</td><td>11.544783</td><td>14.347768</td><td>16.227689</td><td>14.182738</td><td>37.412559</td><td>15.547071</td><td>18.601334</td><td>16.918584</td><td>1.956125</td><td>53.976152</td><td>4.662911</td><td>39.510539</td><td>29.974563</td><td>36.856269</td><td>32.774536</td><td>30.16847</td><td>29.944768</td><td>14.852496</td><td>19.083269</td><td>35.754403</td><td>24.920546</td><td>25.03691</td><td>28.524138</td><td>35.700687</td><td>28.894444</td><td>22.087501</td><td>17.126502</td><td>13.017213</td><td>11.729919</td><td>16.483672</td><td>19.734235</td><td>18.348716</td><td>15.474151</td><td>22.977685</td><td>12.957434</td><td>17.817283</td><td>12.603675</td><td>4.343676</td><td>40.406161</td><td>18.35743</td><td>36.736956</td><td>543</td><td>543</td></tr><tr><td>2022-06-29 00:00:00</td><td>&quot;CLUS_0&quot;</td><td>66.328975</td><td>49.863188</td><td>2</td><td>0</td><td>2022</td><td>6</td><td>29</td><td>2</td><td>false</td><td>49.093008</td><td>45.250244</td><td>42.908983</td><td>47.020039</td><td>43.939686</td><td>53.969219</td><td>38.166542</td><td>31.741385</td><td>25.757204</td><td>30.957898</td><td>23.298625</td><td>22.274204</td><td>36.902187</td><td>32.484351</td><td>9.544107</td><td>47.512364</td><td>26.617093</td><td>21.048537</td><td>37.551968</td><td>11.544783</td><td>14.347768</td><td>16.227689</td><td>14.182738</td><td>37.412559</td><td>15.547071</td><td>18.601334</td><td>16.918584</td><td>1.956125</td><td>53.976152</td><td>40.725765</td><td>39.510539</td><td>29.974563</td><td>36.856269</td><td>32.774536</td><td>30.16847</td><td>29.944768</td><td>14.852496</td><td>19.083269</td><td>35.754403</td><td>24.920546</td><td>25.03691</td><td>28.524138</td><td>35.700687</td><td>28.894444</td><td>22.087501</td><td>17.126502</td><td>13.017213</td><td>11.729919</td><td>16.483672</td><td>19.734235</td><td>18.348716</td><td>15.474151</td><td>22.977685</td><td>12.957434</td><td>17.817283</td><td>12.603675</td><td>4.343676</td><td>40.406161</td><td>43.366497</td><td>544</td><td>544</td></tr><tr><td>2022-06-30 00:00:00</td><td>&quot;CLUS_0&quot;</td><td>82.818093</td><td>51.690048</td><td>3</td><td>1</td><td>2022</td><td>6</td><td>30</td><td>3</td><td>false</td><td>66.328975</td><td>49.093008</td><td>45.250244</td><td>42.908983</td><td>47.020039</td><td>43.939686</td><td>53.969219</td><td>38.166542</td><td>31.741385</td><td>25.757204</td><td>30.957898</td><td>23.298625</td><td>22.274204</td><td>36.902187</td><td>32.484351</td><td>9.544107</td><td>47.512364</td><td>26.617093</td><td>21.048537</td><td>37.551968</td><td>11.544783</td><td>14.347768</td><td>16.227689</td><td>14.182738</td><td>37.412559</td><td>15.547071</td><td>18.601334</td><td>16.918584</td><td>1.956125</td><td>49.863188</td><td>40.725765</td><td>39.510539</td><td>29.974563</td><td>36.856269</td><td>32.774536</td><td>30.16847</td><td>29.944768</td><td>14.852496</td><td>19.083269</td><td>35.754403</td><td>24.920546</td><td>25.03691</td><td>28.524138</td><td>35.700687</td><td>28.894444</td><td>22.087501</td><td>17.126502</td><td>13.017213</td><td>11.729919</td><td>16.483672</td><td>19.734235</td><td>18.348716</td><td>15.474151</td><td>22.977685</td><td>12.957434</td><td>17.817283</td><td>12.603675</td><td>4.343676</td><td>47.426334</td><td>545</td><td>545</td></tr><tr><td>2022-07-01 00:00:00</td><td>&quot;CLUS_0&quot;</td><td>47.587621</td><td>44.055326</td><td>4</td><td>0</td><td>2022</td><td>7</td><td>1</td><td>4</td><td>false</td><td>82.818093</td><td>66.328975</td><td>49.093008</td><td>45.250244</td><td>42.908983</td><td>47.020039</td><td>43.939686</td><td>53.969219</td><td>38.166542</td><td>31.741385</td><td>25.757204</td><td>30.957898</td><td>23.298625</td><td>22.274204</td><td>36.902187</td><td>32.484351</td><td>9.544107</td><td>47.512364</td><td>26.617093</td><td>21.048537</td><td>37.551968</td><td>11.544783</td><td>14.347768</td><td>16.227689</td><td>14.182738</td><td>37.412559</td><td>15.547071</td><td>18.601334</td><td>16.918584</td><td>51.690048</td><td>49.863188</td><td>40.725765</td><td>39.510539</td><td>29.974563</td><td>36.856269</td><td>32.774536</td><td>30.16847</td><td>29.944768</td><td>14.852496</td><td>19.083269</td><td>35.754403</td><td>24.920546</td><td>25.03691</td><td>28.524138</td><td>35.700687</td><td>28.894444</td><td>22.087501</td><td>17.126502</td><td>13.017213</td><td>11.729919</td><td>16.483672</td><td>19.734235</td><td>18.348716</td><td>15.474151</td><td>22.977685</td><td>12.957434</td><td>17.817283</td><td>12.603675</td><td>48.536187</td><td>546</td><td>546</td></tr></tbody></table></div>"
      ],
      "text/plain": [
       "shape: (32, 72)\n",
       "┌────────────┬────────┬───────────┬───────────┬───┬────────────┬────────────┬────────────┬─────────┐\n",
       "│ date       ┆ clus   ┆ in        ┆ out       ┆ … ┆ Lag_out_29 ┆ Rolling_Me ┆ __index_le ┆ date_id │\n",
       "│ ---        ┆ ---    ┆ ---       ┆ ---       ┆   ┆ ---        ┆ an_out     ┆ vel_0__    ┆ ---     │\n",
       "│ datetime[n ┆ str    ┆ f64       ┆ f64       ┆   ┆ f64        ┆ ---        ┆ ---        ┆ i64     │\n",
       "│ s]         ┆        ┆           ┆           ┆   ┆            ┆ f64        ┆ i64        ┆         │\n",
       "╞════════════╪════════╪═══════════╪═══════════╪═══╪════════════╪════════════╪════════════╪═════════╡\n",
       "│ 2022-05-31 ┆ CLUS_0 ┆ 53.976152 ┆ 40.406161 ┆ … ┆ 49.285493  ┆ 28.71442   ┆ 515        ┆ 515     │\n",
       "│ 00:00:00   ┆        ┆           ┆           ┆   ┆            ┆            ┆            ┆         │\n",
       "│ 2022-06-01 ┆ CLUS_0 ┆ 1.956125  ┆ 4.343676  ┆ … ┆ 58.836899  ┆ 21.035756  ┆ 516        ┆ 516     │\n",
       "│ 00:00:00   ┆        ┆           ┆           ┆   ┆            ┆            ┆            ┆         │\n",
       "│ 2022-06-02 ┆ CLUS_0 ┆ 16.918584 ┆ 12.603675 ┆ … ┆ 64.814179  ┆ 19.117837  ┆ 517        ┆ 517     │\n",
       "│ 00:00:00   ┆        ┆           ┆           ┆   ┆            ┆            ┆            ┆         │\n",
       "│ 2022-06-03 ┆ CLUS_0 ┆ 18.601334 ┆ 17.817283 ┆ … ┆ 53.43053   ┆ 11.588211  ┆ 518        ┆ 518     │\n",
       "│ 00:00:00   ┆        ┆           ┆           ┆   ┆            ┆            ┆            ┆         │\n",
       "│ 2022-06-04 ┆ CLUS_0 ┆ 15.547071 ┆ 12.957434 ┆ … ┆ 56.127602  ┆ 14.459464  ┆ 519        ┆ 519     │\n",
       "│ 00:00:00   ┆        ┆           ┆           ┆   ┆            ┆            ┆            ┆         │\n",
       "│ …          ┆ …      ┆ …         ┆ …         ┆ … ┆ …          ┆ …          ┆ …          ┆ …       │\n",
       "│ 2022-06-27 ┆ CLUS_0 ┆ 45.250244 ┆ 39.510539 ┆ … ┆ 27.379669  ┆ 35.447123  ┆ 542        ┆ 542     │\n",
       "│ 00:00:00   ┆        ┆           ┆           ┆   ┆            ┆            ┆            ┆         │\n",
       "│ 2022-06-28 ┆ CLUS_0 ┆ 49.093008 ┆ 40.725765 ┆ … ┆ 18.35743   ┆ 36.736956  ┆ 543        ┆ 543     │\n",
       "│ 00:00:00   ┆        ┆           ┆           ┆   ┆            ┆            ┆            ┆         │\n",
       "│ 2022-06-29 ┆ CLUS_0 ┆ 66.328975 ┆ 49.863188 ┆ … ┆ 40.406161  ┆ 43.366497  ┆ 544        ┆ 544     │\n",
       "│ 00:00:00   ┆        ┆           ┆           ┆   ┆            ┆            ┆            ┆         │\n",
       "│ 2022-06-30 ┆ CLUS_0 ┆ 82.818093 ┆ 51.690048 ┆ … ┆ 4.343676   ┆ 47.426334  ┆ 545        ┆ 545     │\n",
       "│ 00:00:00   ┆        ┆           ┆           ┆   ┆            ┆            ┆            ┆         │\n",
       "│ 2022-07-01 ┆ CLUS_0 ┆ 47.587621 ┆ 44.055326 ┆ … ┆ 12.603675  ┆ 48.536187  ┆ 546        ┆ 546     │\n",
       "│ 00:00:00   ┆        ┆           ┆           ┆   ┆            ┆            ┆            ┆         │\n",
       "└────────────┴────────┴───────────┴───────────┴───┴────────────┴────────────┴────────────┴─────────┘"
      ]
     },
     "execution_count": 26,
     "metadata": {},
     "output_type": "execute_result"
    }
   ],
   "source": [
    "validation_data"
   ]
  },
  {
   "cell_type": "code",
   "execution_count": 27,
   "metadata": {},
   "outputs": [
    {
     "data": {
      "text/html": [
       "<div><style>\n",
       ".dataframe > thead > tr,\n",
       ".dataframe > tbody > tr {\n",
       "  text-align: right;\n",
       "  white-space: pre-wrap;\n",
       "}\n",
       "</style>\n",
       "<small>shape: (515, 72)</small><table border=\"1\" class=\"dataframe\"><thead><tr><th>date</th><th>clus</th><th>in</th><th>out</th><th>weekday</th><th>is_month_end</th><th>Year</th><th>Month</th><th>Day</th><th>DayOfWeek</th><th>IsWeekend</th><th>Lag_in_1</th><th>Lag_in_2</th><th>Lag_in_3</th><th>Lag_in_4</th><th>Lag_in_5</th><th>Lag_in_6</th><th>Lag_in_7</th><th>Lag_in_8</th><th>Lag_in_9</th><th>Lag_in_10</th><th>Lag_in_11</th><th>Lag_in_12</th><th>Lag_in_13</th><th>Lag_in_14</th><th>Lag_in_15</th><th>Lag_in_16</th><th>Lag_in_17</th><th>Lag_in_18</th><th>Lag_in_19</th><th>Lag_in_20</th><th>Lag_in_21</th><th>Lag_in_22</th><th>Lag_in_23</th><th>Lag_in_24</th><th>Lag_in_25</th><th>Lag_in_26</th><th>Lag_in_27</th><th>Lag_in_28</th><th>Lag_in_29</th><th>Lag_out_1</th><th>Lag_out_2</th><th>Lag_out_3</th><th>Lag_out_4</th><th>Lag_out_5</th><th>Lag_out_6</th><th>Lag_out_7</th><th>Lag_out_8</th><th>Lag_out_9</th><th>Lag_out_10</th><th>Lag_out_11</th><th>Lag_out_12</th><th>Lag_out_13</th><th>Lag_out_14</th><th>Lag_out_15</th><th>Lag_out_16</th><th>Lag_out_17</th><th>Lag_out_18</th><th>Lag_out_19</th><th>Lag_out_20</th><th>Lag_out_21</th><th>Lag_out_22</th><th>Lag_out_23</th><th>Lag_out_24</th><th>Lag_out_25</th><th>Lag_out_26</th><th>Lag_out_27</th><th>Lag_out_28</th><th>Lag_out_29</th><th>Rolling_Mean_out</th><th>__index_level_0__</th><th>date_id</th></tr><tr><td>datetime[ns]</td><td>str</td><td>f64</td><td>f64</td><td>i32</td><td>i32</td><td>i32</td><td>i32</td><td>i32</td><td>i32</td><td>bool</td><td>f64</td><td>f64</td><td>f64</td><td>f64</td><td>f64</td><td>f64</td><td>f64</td><td>f64</td><td>f64</td><td>f64</td><td>f64</td><td>f64</td><td>f64</td><td>f64</td><td>f64</td><td>f64</td><td>f64</td><td>f64</td><td>f64</td><td>f64</td><td>f64</td><td>f64</td><td>f64</td><td>f64</td><td>f64</td><td>f64</td><td>f64</td><td>f64</td><td>f64</td><td>f64</td><td>f64</td><td>f64</td><td>f64</td><td>f64</td><td>f64</td><td>f64</td><td>f64</td><td>f64</td><td>f64</td><td>f64</td><td>f64</td><td>f64</td><td>f64</td><td>f64</td><td>f64</td><td>f64</td><td>f64</td><td>f64</td><td>f64</td><td>f64</td><td>f64</td><td>f64</td><td>f64</td><td>f64</td><td>f64</td><td>f64</td><td>f64</td><td>f64</td><td>f64</td><td>i64</td><td>i64</td></tr></thead><tbody><tr><td>2021-01-01 00:00:00</td><td>&quot;CLUS_0&quot;</td><td>52.452394</td><td>37.550255</td><td>4</td><td>0</td><td>2021</td><td>1</td><td>1</td><td>4</td><td>false</td><td>0.0</td><td>0.0</td><td>0.0</td><td>0.0</td><td>0.0</td><td>0.0</td><td>0.0</td><td>0.0</td><td>0.0</td><td>0.0</td><td>0.0</td><td>0.0</td><td>0.0</td><td>0.0</td><td>0.0</td><td>0.0</td><td>0.0</td><td>0.0</td><td>0.0</td><td>0.0</td><td>0.0</td><td>0.0</td><td>0.0</td><td>0.0</td><td>0.0</td><td>0.0</td><td>0.0</td><td>0.0</td><td>0.0</td><td>0.0</td><td>0.0</td><td>0.0</td><td>0.0</td><td>0.0</td><td>0.0</td><td>0.0</td><td>0.0</td><td>0.0</td><td>0.0</td><td>0.0</td><td>0.0</td><td>0.0</td><td>0.0</td><td>0.0</td><td>0.0</td><td>0.0</td><td>0.0</td><td>0.0</td><td>0.0</td><td>0.0</td><td>0.0</td><td>0.0</td><td>0.0</td><td>0.0</td><td>0.0</td><td>0.0</td><td>0.0</td><td>0.0</td><td>0.0</td><td>0</td><td>0</td></tr><tr><td>2021-01-02 00:00:00</td><td>&quot;CLUS_0&quot;</td><td>43.203711</td><td>31.955574</td><td>5</td><td>0</td><td>2021</td><td>1</td><td>2</td><td>5</td><td>true</td><td>52.452394</td><td>0.0</td><td>0.0</td><td>0.0</td><td>0.0</td><td>0.0</td><td>0.0</td><td>0.0</td><td>0.0</td><td>0.0</td><td>0.0</td><td>0.0</td><td>0.0</td><td>0.0</td><td>0.0</td><td>0.0</td><td>0.0</td><td>0.0</td><td>0.0</td><td>0.0</td><td>0.0</td><td>0.0</td><td>0.0</td><td>0.0</td><td>0.0</td><td>0.0</td><td>0.0</td><td>0.0</td><td>0.0</td><td>37.550255</td><td>0.0</td><td>0.0</td><td>0.0</td><td>0.0</td><td>0.0</td><td>0.0</td><td>0.0</td><td>0.0</td><td>0.0</td><td>0.0</td><td>0.0</td><td>0.0</td><td>0.0</td><td>0.0</td><td>0.0</td><td>0.0</td><td>0.0</td><td>0.0</td><td>0.0</td><td>0.0</td><td>0.0</td><td>0.0</td><td>0.0</td><td>0.0</td><td>0.0</td><td>0.0</td><td>0.0</td><td>0.0</td><td>0.0</td><td>1</td><td>1</td></tr><tr><td>2021-01-03 00:00:00</td><td>&quot;CLUS_0&quot;</td><td>72.309778</td><td>63.142757</td><td>6</td><td>0</td><td>2021</td><td>1</td><td>3</td><td>6</td><td>true</td><td>43.203711</td><td>52.452394</td><td>0.0</td><td>0.0</td><td>0.0</td><td>0.0</td><td>0.0</td><td>0.0</td><td>0.0</td><td>0.0</td><td>0.0</td><td>0.0</td><td>0.0</td><td>0.0</td><td>0.0</td><td>0.0</td><td>0.0</td><td>0.0</td><td>0.0</td><td>0.0</td><td>0.0</td><td>0.0</td><td>0.0</td><td>0.0</td><td>0.0</td><td>0.0</td><td>0.0</td><td>0.0</td><td>0.0</td><td>31.955574</td><td>37.550255</td><td>0.0</td><td>0.0</td><td>0.0</td><td>0.0</td><td>0.0</td><td>0.0</td><td>0.0</td><td>0.0</td><td>0.0</td><td>0.0</td><td>0.0</td><td>0.0</td><td>0.0</td><td>0.0</td><td>0.0</td><td>0.0</td><td>0.0</td><td>0.0</td><td>0.0</td><td>0.0</td><td>0.0</td><td>0.0</td><td>0.0</td><td>0.0</td><td>0.0</td><td>0.0</td><td>0.0</td><td>44.216195</td><td>2</td><td>2</td></tr><tr><td>2021-01-04 00:00:00</td><td>&quot;CLUS_0&quot;</td><td>45.957601</td><td>54.307569</td><td>0</td><td>0</td><td>2021</td><td>1</td><td>4</td><td>0</td><td>false</td><td>72.309778</td><td>43.203711</td><td>52.452394</td><td>0.0</td><td>0.0</td><td>0.0</td><td>0.0</td><td>0.0</td><td>0.0</td><td>0.0</td><td>0.0</td><td>0.0</td><td>0.0</td><td>0.0</td><td>0.0</td><td>0.0</td><td>0.0</td><td>0.0</td><td>0.0</td><td>0.0</td><td>0.0</td><td>0.0</td><td>0.0</td><td>0.0</td><td>0.0</td><td>0.0</td><td>0.0</td><td>0.0</td><td>0.0</td><td>63.142757</td><td>31.955574</td><td>37.550255</td><td>0.0</td><td>0.0</td><td>0.0</td><td>0.0</td><td>0.0</td><td>0.0</td><td>0.0</td><td>0.0</td><td>0.0</td><td>0.0</td><td>0.0</td><td>0.0</td><td>0.0</td><td>0.0</td><td>0.0</td><td>0.0</td><td>0.0</td><td>0.0</td><td>0.0</td><td>0.0</td><td>0.0</td><td>0.0</td><td>0.0</td><td>0.0</td><td>0.0</td><td>0.0</td><td>49.801967</td><td>3</td><td>3</td></tr><tr><td>2021-01-05 00:00:00</td><td>&quot;CLUS_0&quot;</td><td>52.805698</td><td>49.549932</td><td>1</td><td>0</td><td>2021</td><td>1</td><td>5</td><td>1</td><td>false</td><td>45.957601</td><td>72.309778</td><td>43.203711</td><td>52.452394</td><td>0.0</td><td>0.0</td><td>0.0</td><td>0.0</td><td>0.0</td><td>0.0</td><td>0.0</td><td>0.0</td><td>0.0</td><td>0.0</td><td>0.0</td><td>0.0</td><td>0.0</td><td>0.0</td><td>0.0</td><td>0.0</td><td>0.0</td><td>0.0</td><td>0.0</td><td>0.0</td><td>0.0</td><td>0.0</td><td>0.0</td><td>0.0</td><td>0.0</td><td>54.307569</td><td>63.142757</td><td>31.955574</td><td>37.550255</td><td>0.0</td><td>0.0</td><td>0.0</td><td>0.0</td><td>0.0</td><td>0.0</td><td>0.0</td><td>0.0</td><td>0.0</td><td>0.0</td><td>0.0</td><td>0.0</td><td>0.0</td><td>0.0</td><td>0.0</td><td>0.0</td><td>0.0</td><td>0.0</td><td>0.0</td><td>0.0</td><td>0.0</td><td>0.0</td><td>0.0</td><td>0.0</td><td>0.0</td><td>55.666752</td><td>4</td><td>4</td></tr><tr><td>&hellip;</td><td>&hellip;</td><td>&hellip;</td><td>&hellip;</td><td>&hellip;</td><td>&hellip;</td><td>&hellip;</td><td>&hellip;</td><td>&hellip;</td><td>&hellip;</td><td>&hellip;</td><td>&hellip;</td><td>&hellip;</td><td>&hellip;</td><td>&hellip;</td><td>&hellip;</td><td>&hellip;</td><td>&hellip;</td><td>&hellip;</td><td>&hellip;</td><td>&hellip;</td><td>&hellip;</td><td>&hellip;</td><td>&hellip;</td><td>&hellip;</td><td>&hellip;</td><td>&hellip;</td><td>&hellip;</td><td>&hellip;</td><td>&hellip;</td><td>&hellip;</td><td>&hellip;</td><td>&hellip;</td><td>&hellip;</td><td>&hellip;</td><td>&hellip;</td><td>&hellip;</td><td>&hellip;</td><td>&hellip;</td><td>&hellip;</td><td>&hellip;</td><td>&hellip;</td><td>&hellip;</td><td>&hellip;</td><td>&hellip;</td><td>&hellip;</td><td>&hellip;</td><td>&hellip;</td><td>&hellip;</td><td>&hellip;</td><td>&hellip;</td><td>&hellip;</td><td>&hellip;</td><td>&hellip;</td><td>&hellip;</td><td>&hellip;</td><td>&hellip;</td><td>&hellip;</td><td>&hellip;</td><td>&hellip;</td><td>&hellip;</td><td>&hellip;</td><td>&hellip;</td><td>&hellip;</td><td>&hellip;</td><td>&hellip;</td><td>&hellip;</td><td>&hellip;</td><td>&hellip;</td><td>&hellip;</td><td>&hellip;</td><td>&hellip;</td></tr><tr><td>2022-05-26 00:00:00</td><td>&quot;CLUS_0&quot;</td><td>33.698604</td><td>19.604749</td><td>3</td><td>0</td><td>2022</td><td>5</td><td>26</td><td>3</td><td>false</td><td>23.461617</td><td>18.245968</td><td>12.664323</td><td>25.521668</td><td>22.752256</td><td>24.108283</td><td>27.299695</td><td>40.206727</td><td>38.664216</td><td>18.100451</td><td>32.40505</td><td>43.445318</td><td>24.423013</td><td>28.902644</td><td>52.044051</td><td>53.119769</td><td>59.112789</td><td>52.689355</td><td>47.210181</td><td>58.743756</td><td>47.485608</td><td>51.969071</td><td>41.717183</td><td>75.389799</td><td>46.22632</td><td>100.80266</td><td>82.158324</td><td>68.863615</td><td>75.834241</td><td>38.716081</td><td>33.086717</td><td>23.112011</td><td>31.267495</td><td>23.818757</td><td>26.73275</td><td>30.784121</td><td>16.499863</td><td>39.087852</td><td>40.153834</td><td>50.497729</td><td>42.818621</td><td>29.685652</td><td>58.825108</td><td>36.37129</td><td>42.747944</td><td>39.022483</td><td>48.578121</td><td>37.237364</td><td>56.127602</td><td>53.43053</td><td>64.814179</td><td>58.836899</td><td>49.285493</td><td>37.385587</td><td>83.824443</td><td>62.832916</td><td>55.632848</td><td>63.334455</td><td>30.469182</td><td>510</td><td>510</td></tr><tr><td>2022-05-27 00:00:00</td><td>&quot;CLUS_0&quot;</td><td>14.75734</td><td>12.607962</td><td>4</td><td>0</td><td>2022</td><td>5</td><td>27</td><td>4</td><td>false</td><td>33.698604</td><td>23.461617</td><td>18.245968</td><td>12.664323</td><td>25.521668</td><td>22.752256</td><td>24.108283</td><td>27.299695</td><td>40.206727</td><td>38.664216</td><td>18.100451</td><td>32.40505</td><td>43.445318</td><td>24.423013</td><td>28.902644</td><td>52.044051</td><td>53.119769</td><td>59.112789</td><td>52.689355</td><td>47.210181</td><td>58.743756</td><td>47.485608</td><td>51.969071</td><td>41.717183</td><td>75.389799</td><td>46.22632</td><td>100.80266</td><td>82.158324</td><td>68.863615</td><td>19.604749</td><td>38.716081</td><td>33.086717</td><td>23.112011</td><td>31.267495</td><td>23.818757</td><td>26.73275</td><td>30.784121</td><td>16.499863</td><td>39.087852</td><td>40.153834</td><td>50.497729</td><td>42.818621</td><td>29.685652</td><td>58.825108</td><td>36.37129</td><td>42.747944</td><td>39.022483</td><td>48.578121</td><td>37.237364</td><td>56.127602</td><td>53.43053</td><td>64.814179</td><td>58.836899</td><td>49.285493</td><td>37.385587</td><td>83.824443</td><td>62.832916</td><td>55.632848</td><td>23.642931</td><td>511</td><td>511</td></tr><tr><td>2022-05-28 00:00:00</td><td>&quot;CLUS_0&quot;</td><td>21.528228</td><td>7.285988</td><td>5</td><td>0</td><td>2022</td><td>5</td><td>28</td><td>5</td><td>true</td><td>14.75734</td><td>33.698604</td><td>23.461617</td><td>18.245968</td><td>12.664323</td><td>25.521668</td><td>22.752256</td><td>24.108283</td><td>27.299695</td><td>40.206727</td><td>38.664216</td><td>18.100451</td><td>32.40505</td><td>43.445318</td><td>24.423013</td><td>28.902644</td><td>52.044051</td><td>53.119769</td><td>59.112789</td><td>52.689355</td><td>47.210181</td><td>58.743756</td><td>47.485608</td><td>51.969071</td><td>41.717183</td><td>75.389799</td><td>46.22632</td><td>100.80266</td><td>82.158324</td><td>12.607962</td><td>19.604749</td><td>38.716081</td><td>33.086717</td><td>23.112011</td><td>31.267495</td><td>23.818757</td><td>26.73275</td><td>30.784121</td><td>16.499863</td><td>39.087852</td><td>40.153834</td><td>50.497729</td><td>42.818621</td><td>29.685652</td><td>58.825108</td><td>36.37129</td><td>42.747944</td><td>39.022483</td><td>48.578121</td><td>37.237364</td><td>56.127602</td><td>53.43053</td><td>64.814179</td><td>58.836899</td><td>49.285493</td><td>37.385587</td><td>83.824443</td><td>62.832916</td><td>13.166233</td><td>512</td><td>512</td></tr><tr><td>2022-05-29 00:00:00</td><td>&quot;CLUS_0&quot;</td><td>19.879322</td><td>27.379669</td><td>6</td><td>0</td><td>2022</td><td>5</td><td>29</td><td>6</td><td>true</td><td>21.528228</td><td>14.75734</td><td>33.698604</td><td>23.461617</td><td>18.245968</td><td>12.664323</td><td>25.521668</td><td>22.752256</td><td>24.108283</td><td>27.299695</td><td>40.206727</td><td>38.664216</td><td>18.100451</td><td>32.40505</td><td>43.445318</td><td>24.423013</td><td>28.902644</td><td>52.044051</td><td>53.119769</td><td>59.112789</td><td>52.689355</td><td>47.210181</td><td>58.743756</td><td>47.485608</td><td>51.969071</td><td>41.717183</td><td>75.389799</td><td>46.22632</td><td>100.80266</td><td>7.285988</td><td>12.607962</td><td>19.604749</td><td>38.716081</td><td>33.086717</td><td>23.112011</td><td>31.267495</td><td>23.818757</td><td>26.73275</td><td>30.784121</td><td>16.499863</td><td>39.087852</td><td>40.153834</td><td>50.497729</td><td>42.818621</td><td>29.685652</td><td>58.825108</td><td>36.37129</td><td>42.747944</td><td>39.022483</td><td>48.578121</td><td>37.237364</td><td>56.127602</td><td>53.43053</td><td>64.814179</td><td>58.836899</td><td>49.285493</td><td>37.385587</td><td>83.824443</td><td>15.757873</td><td>513</td><td>513</td></tr><tr><td>2022-05-30 00:00:00</td><td>&quot;CLUS_0&quot;</td><td>4.662911</td><td>18.35743</td><td>0</td><td>0</td><td>2022</td><td>5</td><td>30</td><td>0</td><td>false</td><td>19.879322</td><td>21.528228</td><td>14.75734</td><td>33.698604</td><td>23.461617</td><td>18.245968</td><td>12.664323</td><td>25.521668</td><td>22.752256</td><td>24.108283</td><td>27.299695</td><td>40.206727</td><td>38.664216</td><td>18.100451</td><td>32.40505</td><td>43.445318</td><td>24.423013</td><td>28.902644</td><td>52.044051</td><td>53.119769</td><td>59.112789</td><td>52.689355</td><td>47.210181</td><td>58.743756</td><td>47.485608</td><td>51.969071</td><td>41.717183</td><td>75.389799</td><td>46.22632</td><td>27.379669</td><td>7.285988</td><td>12.607962</td><td>19.604749</td><td>38.716081</td><td>33.086717</td><td>23.112011</td><td>31.267495</td><td>23.818757</td><td>26.73275</td><td>30.784121</td><td>16.499863</td><td>39.087852</td><td>40.153834</td><td>50.497729</td><td>42.818621</td><td>29.685652</td><td>58.825108</td><td>36.37129</td><td>42.747944</td><td>39.022483</td><td>48.578121</td><td>37.237364</td><td>56.127602</td><td>53.43053</td><td>64.814179</td><td>58.836899</td><td>49.285493</td><td>37.385587</td><td>17.674363</td><td>514</td><td>514</td></tr></tbody></table></div>"
      ],
      "text/plain": [
       "shape: (515, 72)\n",
       "┌────────────┬────────┬───────────┬───────────┬───┬────────────┬────────────┬────────────┬─────────┐\n",
       "│ date       ┆ clus   ┆ in        ┆ out       ┆ … ┆ Lag_out_29 ┆ Rolling_Me ┆ __index_le ┆ date_id │\n",
       "│ ---        ┆ ---    ┆ ---       ┆ ---       ┆   ┆ ---        ┆ an_out     ┆ vel_0__    ┆ ---     │\n",
       "│ datetime[n ┆ str    ┆ f64       ┆ f64       ┆   ┆ f64        ┆ ---        ┆ ---        ┆ i64     │\n",
       "│ s]         ┆        ┆           ┆           ┆   ┆            ┆ f64        ┆ i64        ┆         │\n",
       "╞════════════╪════════╪═══════════╪═══════════╪═══╪════════════╪════════════╪════════════╪═════════╡\n",
       "│ 2021-01-01 ┆ CLUS_0 ┆ 52.452394 ┆ 37.550255 ┆ … ┆ 0.0        ┆ 0.0        ┆ 0          ┆ 0       │\n",
       "│ 00:00:00   ┆        ┆           ┆           ┆   ┆            ┆            ┆            ┆         │\n",
       "│ 2021-01-02 ┆ CLUS_0 ┆ 43.203711 ┆ 31.955574 ┆ … ┆ 0.0        ┆ 0.0        ┆ 1          ┆ 1       │\n",
       "│ 00:00:00   ┆        ┆           ┆           ┆   ┆            ┆            ┆            ┆         │\n",
       "│ 2021-01-03 ┆ CLUS_0 ┆ 72.309778 ┆ 63.142757 ┆ … ┆ 0.0        ┆ 44.216195  ┆ 2          ┆ 2       │\n",
       "│ 00:00:00   ┆        ┆           ┆           ┆   ┆            ┆            ┆            ┆         │\n",
       "│ 2021-01-04 ┆ CLUS_0 ┆ 45.957601 ┆ 54.307569 ┆ … ┆ 0.0        ┆ 49.801967  ┆ 3          ┆ 3       │\n",
       "│ 00:00:00   ┆        ┆           ┆           ┆   ┆            ┆            ┆            ┆         │\n",
       "│ 2021-01-05 ┆ CLUS_0 ┆ 52.805698 ┆ 49.549932 ┆ … ┆ 0.0        ┆ 55.666752  ┆ 4          ┆ 4       │\n",
       "│ 00:00:00   ┆        ┆           ┆           ┆   ┆            ┆            ┆            ┆         │\n",
       "│ …          ┆ …      ┆ …         ┆ …         ┆ … ┆ …          ┆ …          ┆ …          ┆ …       │\n",
       "│ 2022-05-26 ┆ CLUS_0 ┆ 33.698604 ┆ 19.604749 ┆ … ┆ 63.334455  ┆ 30.469182  ┆ 510        ┆ 510     │\n",
       "│ 00:00:00   ┆        ┆           ┆           ┆   ┆            ┆            ┆            ┆         │\n",
       "│ 2022-05-27 ┆ CLUS_0 ┆ 14.75734  ┆ 12.607962 ┆ … ┆ 55.632848  ┆ 23.642931  ┆ 511        ┆ 511     │\n",
       "│ 00:00:00   ┆        ┆           ┆           ┆   ┆            ┆            ┆            ┆         │\n",
       "│ 2022-05-28 ┆ CLUS_0 ┆ 21.528228 ┆ 7.285988  ┆ … ┆ 62.832916  ┆ 13.166233  ┆ 512        ┆ 512     │\n",
       "│ 00:00:00   ┆        ┆           ┆           ┆   ┆            ┆            ┆            ┆         │\n",
       "│ 2022-05-29 ┆ CLUS_0 ┆ 19.879322 ┆ 27.379669 ┆ … ┆ 83.824443  ┆ 15.757873  ┆ 513        ┆ 513     │\n",
       "│ 00:00:00   ┆        ┆           ┆           ┆   ┆            ┆            ┆            ┆         │\n",
       "│ 2022-05-30 ┆ CLUS_0 ┆ 4.662911  ┆ 18.35743  ┆ … ┆ 37.385587  ┆ 17.674363  ┆ 514        ┆ 514     │\n",
       "│ 00:00:00   ┆        ┆           ┆           ┆   ┆            ┆            ┆            ┆         │\n",
       "└────────────┴────────┴───────────┴───────────┴───┴────────────┴────────────┴────────────┴─────────┘"
      ]
     },
     "execution_count": 27,
     "metadata": {},
     "output_type": "execute_result"
    }
   ],
   "source": [
    "training_data"
   ]
  },
  {
   "cell_type": "code",
   "execution_count": 28,
   "metadata": {},
   "outputs": [],
   "source": [
    "training_data.write_parquet(f\"./training_data.parquet\")"
   ]
  },
  {
   "cell_type": "code",
   "execution_count": 29,
   "metadata": {},
   "outputs": [],
   "source": [
    "\n",
    "validation_data.write_parquet(f\"./validation_data.parquet\")"
   ]
  },
  {
   "cell_type": "code",
   "execution_count": null,
   "metadata": {},
   "outputs": [],
   "source": []
  }
 ],
 "metadata": {
  "kernelspec": {
   "display_name": "Python 3",
   "language": "python",
   "name": "python3"
  },
  "language_info": {
   "codemirror_mode": {
    "name": "ipython",
    "version": 3
   },
   "file_extension": ".py",
   "mimetype": "text/x-python",
   "name": "python",
   "nbconvert_exporter": "python",
   "pygments_lexer": "ipython3",
   "version": "3.12.5"
  }
 },
 "nbformat": 4,
 "nbformat_minor": 4
}
